{
  "cells": [
    {
      "cell_type": "code",
      "execution_count": 1,
      "id": "d150e9d3",
      "metadata": {
        "id": "d150e9d3"
      },
      "outputs": [],
      "source": [
        "import random\n",
        "import itertools\n",
        "import numpy as np\n",
        "import pandas as pd\n",
        "import matplotlib.pyplot as plt"
      ]
    },
    {
      "cell_type": "code",
      "execution_count": 2,
      "id": "1ceb12b6",
      "metadata": {
        "id": "1ceb12b6"
      },
      "outputs": [],
      "source": [
        "random.seed(100)\n",
        "\n",
        "base = ['A','C','G','T']\n",
        "\n",
        "rand_seqs=[]\n",
        "for _ in range(3):\n",
        "    sample = random.choices(base, k=5)\n",
        "    seq = ''.join(sample)\n",
        "    rand_seqs.append(seq)\n",
        "\n",
        "seqs = np.array(rand_seqs)"
      ]
    },
    {
      "cell_type": "code",
      "execution_count": 3,
      "id": "80844574",
      "metadata": {
        "colab": {
          "base_uri": "https://localhost:8080/",
          "height": 0
        },
        "id": "80844574",
        "outputId": "cc93e3f2-8435-45cc-b067-3049932f75be"
      },
      "outputs": [
        {
          "output_type": "execute_result",
          "data": {
            "text/plain": [
              "array(['ACTGG', 'CTGAC', 'ATTCC'], dtype='<U5')"
            ]
          },
          "metadata": {},
          "execution_count": 3
        }
      ],
      "source": [
        "seqs"
      ]
    },
    {
      "cell_type": "code",
      "execution_count": 4,
      "id": "3ad4d839",
      "metadata": {
        "colab": {
          "base_uri": "https://localhost:8080/",
          "height": 0
        },
        "id": "3ad4d839",
        "outputId": "102f6ba1-7708-4204-adcd-41edf236d48d"
      },
      "outputs": [
        {
          "output_type": "execute_result",
          "data": {
            "text/plain": [
              "(3,)"
            ]
          },
          "metadata": {},
          "execution_count": 4
        }
      ],
      "source": [
        "seqs.shape"
      ]
    },
    {
      "cell_type": "markdown",
      "id": "92b55cbc",
      "metadata": {
        "id": "92b55cbc"
      },
      "source": [
        "# Exercise"
      ]
    },
    {
      "cell_type": "markdown",
      "id": "2e03f567",
      "metadata": {
        "id": "2e03f567"
      },
      "source": [
        "### 1. Extract k-mer count feature vector\n",
        "- k-mer count 기반의 feature vector를 확인한다.  \n"
      ]
    },
    {
      "cell_type": "raw",
      "id": "f68b931e",
      "metadata": {
        "id": "f68b931e"
      },
      "source": [
        "seqs = np.array(['ACTGG', 'CTGAC', 'ATTCC'])\n",
        "\n",
        "(1-1) k=1 일때, 변환된 feature vector 값을 출력하시오.\n",
        "\n",
        "array([[1, 1, 2, 1],\n",
        "       [1, 2, 1, 1],\n",
        "       [1, 2, 0, 2]])\n",
        "\n",
        "\n",
        "(1-2) shape을 확인하시오.\n",
        "shape: (3, 4)\n",
        "\n",
        "\n",
        "(1-3) k 값을 변경하여 확인해보시오.\n",
        "k=2\n",
        "array([[0, 1, 0, 0, 0, 0, 0, 1, 0, 0, 1, 0, 0, 0, 1, 0],\n",
        "       [0, 1, 0, 0, 0, 0, 0, 1, 1, 0, 0, 0, 0, 0, 1, 0],\n",
        "       [0, 0, 0, 1, 0, 1, 0, 0, 0, 0, 0, 0, 0, 1, 0, 1]])\n",
        "\n",
        "shape: (3, 16)"
      ]
    },
    {
      "cell_type": "code",
      "execution_count": 5,
      "id": "ad8bafcc",
      "metadata": {
        "id": "ad8bafcc",
        "colab": {
          "base_uri": "https://localhost:8080/",
          "height": 0
        },
        "outputId": "182b7431-b3f7-4711-81bb-40867ba4265b"
      },
      "outputs": [
        {
          "name": "stdout",
          "output_type": "stream",
          "text": [
            "Insert K:1\n"
          ]
        }
      ],
      "source": [
        "class Kmer:\n",
        "  def __init__(self):\n",
        "    self.base_permutation = []\n",
        "    self.k = 0\n",
        "    self.encoded_bases = np.array([])\n",
        "\n",
        "  def set_k(self):\n",
        "    self.k = int(input('Insert K:') or 1)\n",
        "    #self.k= input\n",
        "    self.Permutate()\n",
        "\n",
        "  def Permutate(self):\n",
        "    permutation = []\n",
        "    self.base_permutation = []\n",
        "    self.permutate(permutation)\n",
        "\n",
        "  def permutate(self, buf):\n",
        "    for element in ['A', 'C', 'G', 'T']:\n",
        "        buf.append(element)\n",
        "        if len(buf) == self.k :\n",
        "          self.base_permutation.append(\"\".join(buf))\n",
        "          buf.pop()\n",
        "        else :\n",
        "          self.permutate(buf)\n",
        "          buf.pop()\n",
        "\n",
        "  def ExtractKmer(self, feature):\n",
        "    self.encoded_bases = np.array([])\n",
        "    a = []\n",
        "    for sequence in feature:\n",
        "      kmerList = []\n",
        "      b = []\n",
        "      for i in range(0,len(sequence)-self.k+1,1):\n",
        "        kmerList.append(sequence[i:i+self.k])\n",
        "      #print(kmerList)\n",
        "      for seq in self.base_permutation:\n",
        "        c = kmerList.count(seq)\n",
        "        b.append(c)\n",
        "      #print(b)\n",
        "      a.append(b)\n",
        "    self.encoded_bases = np.array(a)\n",
        "    #print(self.encoded_bases)\n",
        "\n",
        "  def ReturnEncodedBases(self):\n",
        "    print(self.encoded_bases)\n",
        "\n",
        "A = Kmer()\n",
        "seqs_1 = np.array(['ACTGG', 'CTGAC', 'ATTCC'])\n",
        "\n",
        "#knum = int(input('Insert K:') or 1)\n",
        "A.set_k()\n",
        "A.ExtractKmer(seqs_1)"
      ]
    },
    {
      "cell_type": "code",
      "source": [
        "A.encoded_bases\n",
        "#print(A.base_permutation)"
      ],
      "metadata": {
        "colab": {
          "base_uri": "https://localhost:8080/",
          "height": 0
        },
        "id": "qNk6BQsVnywa",
        "outputId": "c8564c74-5e9a-4e0b-b3a1-a43ca5dd80ed"
      },
      "id": "qNk6BQsVnywa",
      "execution_count": 6,
      "outputs": [
        {
          "output_type": "execute_result",
          "data": {
            "text/plain": [
              "array([[1, 1, 2, 1],\n",
              "       [1, 2, 1, 1],\n",
              "       [1, 2, 0, 2]])"
            ]
          },
          "metadata": {},
          "execution_count": 6
        }
      ]
    },
    {
      "cell_type": "code",
      "source": [
        "print(A.encoded_bases.shape)"
      ],
      "metadata": {
        "colab": {
          "base_uri": "https://localhost:8080/",
          "height": 0
        },
        "id": "b0gprQ6vn06M",
        "outputId": "eac70d03-039d-4fab-b659-fcfb665443bb"
      },
      "id": "b0gprQ6vn06M",
      "execution_count": 7,
      "outputs": [
        {
          "output_type": "stream",
          "name": "stdout",
          "text": [
            "(3, 4)\n"
          ]
        }
      ]
    },
    {
      "cell_type": "code",
      "source": [
        "A.set_k()\n",
        "#print(A.base_permutation)\n",
        "A.ExtractKmer(seqs_1)\n",
        "A.encoded_bases"
      ],
      "metadata": {
        "colab": {
          "base_uri": "https://localhost:8080/",
          "height": 0
        },
        "id": "B1qeQdkummBZ",
        "outputId": "d9e0a4e8-dce3-4921-efce-dc7a3b40ccff"
      },
      "id": "B1qeQdkummBZ",
      "execution_count": 8,
      "outputs": [
        {
          "name": "stdout",
          "output_type": "stream",
          "text": [
            "Insert K:2\n"
          ]
        },
        {
          "output_type": "execute_result",
          "data": {
            "text/plain": [
              "array([[0, 1, 0, 0, 0, 0, 0, 1, 0, 0, 1, 0, 0, 0, 1, 0],\n",
              "       [0, 1, 0, 0, 0, 0, 0, 1, 1, 0, 0, 0, 0, 0, 1, 0],\n",
              "       [0, 0, 0, 1, 0, 1, 0, 0, 0, 0, 0, 0, 0, 1, 0, 1]])"
            ]
          },
          "metadata": {},
          "execution_count": 8
        }
      ]
    },
    {
      "cell_type": "code",
      "source": [
        "A.encoded_bases.shape"
      ],
      "metadata": {
        "colab": {
          "base_uri": "https://localhost:8080/",
          "height": 0
        },
        "id": "ervpDsLQqQ7R",
        "outputId": "8f1727ab-68e2-4834-af00-3d7b08e324c1"
      },
      "id": "ervpDsLQqQ7R",
      "execution_count": 9,
      "outputs": [
        {
          "output_type": "execute_result",
          "data": {
            "text/plain": [
              "(3, 16)"
            ]
          },
          "metadata": {},
          "execution_count": 9
        }
      ]
    },
    {
      "cell_type": "markdown",
      "id": "f4456aa7",
      "metadata": {
        "id": "f4456aa7"
      },
      "source": [
        "### 2. Extract One-hot encoding feature vector\n",
        "- to_categorical 참고  \n",
        "https://www.tensorflow.org/api_docs/python/tf/keras/utils/to_categorical"
      ]
    },
    {
      "cell_type": "raw",
      "id": "b0487c8d",
      "metadata": {
        "id": "b0487c8d"
      },
      "source": [
        "seqs = np.array(['ACTGG', 'CTGAC', 'ATTCC'])\n",
        "\n",
        "(2-1) one-hot encoding 결과물을 출력하시오.\n",
        "\n",
        "<pre>\n",
        "array([[[1., 0., 0., 0.],\n",
        "        [0., 1., 0., 0.],\n",
        "        [0., 0., 0., 1.],\n",
        "        [0., 0., 1., 0.],\n",
        "        [0., 0., 1., 0.]],\n",
        "\n",
        "       [[0., 1., 0., 0.],\n",
        "        [0., 0., 0., 1.],\n",
        "        [0., 0., 1., 0.],\n",
        "        [1., 0., 0., 0.],\n",
        "        [0., 1., 0., 0.]],\n",
        "\n",
        "       [[0., 1., 0., 0.],\n",
        "        [1., 0., 0., 0.],\n",
        "        [0., 0., 0., 1.],\n",
        "        [0., 0., 1., 0.],\n",
        "        [0., 0., 1., 0.]]], dtype=float32)\n",
        "</pre>\n",
        "\n",
        "\n",
        "(2-2) shape을 확인하시오.\n",
        "\n",
        "(3, 5, 4)\n"
      ]
    },
    {
      "cell_type": "code",
      "execution_count": 10,
      "id": "ede42a98",
      "metadata": {
        "id": "ede42a98"
      },
      "outputs": [],
      "source": [
        "from keras.utils import to_categorical\n",
        "\n",
        "base_dict = {'A': 0, 'C': 1, 'G': 2, 'T': 3}"
      ]
    },
    {
      "cell_type": "code",
      "execution_count": 11,
      "id": "a97da7ca",
      "metadata": {
        "colab": {
          "base_uri": "https://localhost:8080/",
          "height": 0
        },
        "id": "a97da7ca",
        "outputId": "9aad92da-48d3-4f03-ea7a-0f2d177c47a9"
      },
      "outputs": [
        {
          "output_type": "execute_result",
          "data": {
            "text/plain": [
              "array([[[1., 0., 0., 0.],\n",
              "        [0., 1., 0., 0.],\n",
              "        [0., 0., 0., 1.],\n",
              "        [0., 0., 1., 0.],\n",
              "        [0., 0., 1., 0.]],\n",
              "\n",
              "       [[0., 1., 0., 0.],\n",
              "        [0., 0., 0., 1.],\n",
              "        [0., 0., 1., 0.],\n",
              "        [1., 0., 0., 0.],\n",
              "        [0., 1., 0., 0.]],\n",
              "\n",
              "       [[1., 0., 0., 0.],\n",
              "        [0., 0., 0., 1.],\n",
              "        [0., 0., 0., 1.],\n",
              "        [0., 1., 0., 0.],\n",
              "        [0., 1., 0., 0.]]], dtype=float32)"
            ]
          },
          "metadata": {},
          "execution_count": 11
        }
      ],
      "source": [
        "baseseq = np.array(['ACTGG', 'CTGAC', 'ATTCC'])\n",
        "baseseqs = list(baseseq)\n",
        "i=0\n",
        "convertedseq = []\n",
        "for sequence in baseseqs:\n",
        "  sequence = list(sequence)\n",
        "  #print(sequence)\n",
        "  j=0\n",
        "  for letter in sequence:\n",
        "    sequence[j] = base_dict.get(letter)\n",
        "    #print(letter)\n",
        "    j+=1\n",
        "  #print(sequence)\n",
        "  convertedseq.append(sequence)\n",
        "  i += 1\n",
        "#convertedseq\n",
        "onehot_encoded = to_categorical(convertedseq)\n",
        "onehot_encoded = np.array(onehot_encoded, dtype=\"float32\")\n",
        "onehot_encoded"
      ]
    },
    {
      "cell_type": "code",
      "execution_count": 12,
      "id": "d48d6b4f",
      "metadata": {
        "colab": {
          "base_uri": "https://localhost:8080/",
          "height": 0
        },
        "id": "d48d6b4f",
        "outputId": "efe1c0c3-fb0c-4db9-c84d-c4bcc83ee2fd"
      },
      "outputs": [
        {
          "output_type": "stream",
          "name": "stdout",
          "text": [
            "(3, 5, 4)\n"
          ]
        }
      ],
      "source": [
        "print(onehot_encoded.shape)"
      ]
    }
  ],
  "metadata": {
    "kernelspec": {
      "display_name": "Python 3 (ipykernel)",
      "language": "python",
      "name": "python3"
    },
    "language_info": {
      "codemirror_mode": {
        "name": "ipython",
        "version": 3
      },
      "file_extension": ".py",
      "mimetype": "text/x-python",
      "name": "python",
      "nbconvert_exporter": "python",
      "pygments_lexer": "ipython3",
      "version": "3.9.13"
    },
    "colab": {
      "provenance": []
    }
  },
  "nbformat": 4,
  "nbformat_minor": 5
}